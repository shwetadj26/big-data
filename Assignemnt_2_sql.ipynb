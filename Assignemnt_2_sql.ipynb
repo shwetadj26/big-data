{
  "nbformat": 4,
  "nbformat_minor": 0,
  "metadata": {
    "colab": {
      "provenance": []
    },
    "kernelspec": {
      "name": "python3",
      "display_name": "Python 3"
    },
    "language_info": {
      "name": "python"
    }
  },
  "cells": [
    {
      "cell_type": "markdown",
      "source": [
        "\n",
        "1. Write an SQL query to retrieve the names and email addresses of all employees from a table named \"Employees\".\n",
        "\n"
      ],
      "metadata": {
        "id": "DOPF18pNfRqX"
      }
    },
    {
      "cell_type": "code",
      "execution_count": null,
      "metadata": {
        "id": "R8OoFMaXfQUw"
      },
      "outputs": [],
      "source": [
        "SELECT name, email\n",
        "FROM Employees;\n"
      ]
    },
    {
      "cell_type": "markdown",
      "source": [
        "2. Write an SQL query to filter records from a table named \"Customers\" where the \"City\" column is 'New York'.\n"
      ],
      "metadata": {
        "id": "wfuW0ymFfa4H"
      }
    },
    {
      "cell_type": "code",
      "source": [
        "SELECT *\n",
        "FROM Customers\n",
        "WHERE City = 'New York';\n"
      ],
      "metadata": {
        "id": "GcE1x1n4fc_R"
      },
      "execution_count": null,
      "outputs": []
    },
    {
      "cell_type": "markdown",
      "source": [
        "3. Write an SQL query to sort records in descending order based on the \"DateOfBirth\" column in a table named \"Users\".\n"
      ],
      "metadata": {
        "id": "OfpXheW9fdoh"
      }
    },
    {
      "cell_type": "code",
      "source": [
        "SELECT *\n",
        "FROM Users\n",
        "ORDER BY DateOfBirth DESC;\n"
      ],
      "metadata": {
        "id": "_DbP9uoEfhRr"
      },
      "execution_count": null,
      "outputs": []
    },
    {
      "cell_type": "markdown",
      "source": [
        "4. Write an SQL query to sort records in ascending order based on the \"RegistrationDate\" column in a table named \"Users\".\n"
      ],
      "metadata": {
        "id": "oupQuZ2Wfhty"
      }
    },
    {
      "cell_type": "code",
      "source": [
        "SELECT *\n",
        "FROM Users\n",
        "ORDER BY RegistrationDate ASC;\n"
      ],
      "metadata": {
        "id": "arQgk8dvfkTA"
      },
      "execution_count": null,
      "outputs": []
    },
    {
      "cell_type": "markdown",
      "source": [
        "5. Write an SQL query to find the employee with the highest salary from a table named \"Employees\" and display their name, position, and salary.\n"
      ],
      "metadata": {
        "id": "T3JNBVzFfkp2"
      }
    },
    {
      "cell_type": "code",
      "source": [
        "SELECT name, position, salary\n",
        "FROM Employees\n",
        "ORDER BY salary DESC\n",
        "LIMIT 1;\n"
      ],
      "metadata": {
        "id": "_VO2Vuf7fnF_"
      },
      "execution_count": null,
      "outputs": []
    },
    {
      "cell_type": "markdown",
      "source": [
        "6. Write an SQL query to retrieve records from a table named \"Customers\" where the \"Phone\" column matches the pattern '+1-XXX-XXX-XXXX'.\n"
      ],
      "metadata": {
        "id": "PggYrFlEfnbO"
      }
    },
    {
      "cell_type": "code",
      "source": [
        "SELECT *\n",
        "FROM Customers\n",
        "WHERE Phone LIKE '+1-234-567-890';\n"
      ],
      "metadata": {
        "id": "XkhbJUzLfpeZ"
      },
      "execution_count": null,
      "outputs": []
    },
    {
      "cell_type": "markdown",
      "source": [
        "7. Write an SQL query to retrieve the top 5 customers with the highest total purchase amount from a table named \"Orders\" and display their names and total purchase amounts.\n"
      ],
      "metadata": {
        "id": "CgkFU8RYfp3A"
      }
    },
    {
      "cell_type": "code",
      "source": [
        "SELECT customer_name, SUM(purchase_amount) AS total_purchase_amount\n",
        "FROM Orders\n",
        "GROUP BY customer_name\n",
        "ORDER BY total_purchase_amount DESC\n",
        "LIMIT 5;\n"
      ],
      "metadata": {
        "id": "i_NSc8kHfr-P"
      },
      "execution_count": null,
      "outputs": []
    },
    {
      "cell_type": "markdown",
      "source": [
        "8. Write an SQL query to calculate the percentage of sales for each product category in a table named \"Sales\" and display the category name, total sales amount, and the percentage of total sales.\n"
      ],
      "metadata": {
        "id": "sspyshXPfsTn"
      }
    },
    {
      "cell_type": "code",
      "source": [
        "SELECT category_name, SUM(sales_amount) AS total_sales_amount,\n",
        "       (SUM(sales_amount) / (SELECT SUM(sales_amount) FROM Sales)) * 100 AS percentage_of_total_sales\n",
        "FROM Sales\n",
        "GROUP BY category_name;\n"
      ],
      "metadata": {
        "id": "KAYxi536fuX2"
      },
      "execution_count": null,
      "outputs": []
    },
    {
      "cell_type": "markdown",
      "source": [
        "9. Write an SQL query to find the customers who have made the highest total purchases across all years from a table named \"Orders\" and display their names, email addresses, and the total purchase amount."
      ],
      "metadata": {
        "id": "MeM9ltYxfu1B"
      }
    },
    {
      "cell_type": "code",
      "source": [
        "SELECT customer_name, email, SUM(purchase_amount) AS total_purchase_amount\n",
        "FROM Orders\n",
        "GROUP BY customer_name, email\n",
        "HAVING SUM(purchase_amount) = (SELECT MAX(total_purchase) FROM\n",
        "                              (SELECT SUM(purchase_amount) AS total_purchase FROM Orders GROUP BY customer_name) AS subquery);\n"
      ],
      "metadata": {
        "id": "ZzKF7Kt2fxKi"
      },
      "execution_count": 1,
      "outputs": []
    }
  ]
}