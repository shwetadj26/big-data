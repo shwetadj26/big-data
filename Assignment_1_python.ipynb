{
  "nbformat": 4,
  "nbformat_minor": 0,
  "metadata": {
    "colab": {
      "provenance": []
    },
    "kernelspec": {
      "name": "python3",
      "display_name": "Python 3"
    },
    "language_info": {
      "name": "python"
    }
  },
  "cells": [
    {
      "cell_type": "markdown",
      "source": [
        "1. Write a Python program to check if a given string is an anagram.\n"
      ],
      "metadata": {
        "id": "wXh_67rAdIaL"
      }
    },
    {
      "cell_type": "code",
      "source": [
        "def is_anagram(str1, str2):\n",
        "    return sorted(str1) == sorted(str2)\n",
        "\n",
        "string1 = \"listen\"\n",
        "string2 = \"silent\"\n",
        "if is_anagram(string1, string2):\n",
        "    print(\"The strings are anagrams.\")\n",
        "else:\n",
        "    print(\"The strings are not anagrams.\")\n"
      ],
      "metadata": {
        "colab": {
          "base_uri": "https://localhost:8080/"
        },
        "id": "d2vYMPRTctzS",
        "outputId": "5160654e-cec9-4860-87db-1ef2d1eb0059"
      },
      "execution_count": 1,
      "outputs": [
        {
          "output_type": "stream",
          "name": "stdout",
          "text": [
            "The strings are anagrams.\n"
          ]
        }
      ]
    },
    {
      "cell_type": "markdown",
      "source": [
        "2. Write a Python program to find the maximum and minimum values in a\n",
        "dictionary.\n"
      ],
      "metadata": {
        "id": "cFbDZ-FKcunD"
      }
    },
    {
      "cell_type": "code",
      "source": [
        "def find_min_max(dictionary):\n",
        "    values = list(dictionary.values())\n",
        "    return min(values), max(values)\n",
        "\n",
        "my_dict = {'a': 10, 'b': 5, 'c': 20}\n",
        "min_value, max_value = find_min_max(my_dict)\n",
        "print(\"Minimum value:\", min_value)\n",
        "print(\"Maximum value:\", max_value)\n"
      ],
      "metadata": {
        "colab": {
          "base_uri": "https://localhost:8080/"
        },
        "id": "biIdl6pEcx3k",
        "outputId": "d8a64598-183f-4123-b002-4f370e198259"
      },
      "execution_count": 2,
      "outputs": [
        {
          "output_type": "stream",
          "name": "stdout",
          "text": [
            "Minimum value: 5\n",
            "Maximum value: 20\n"
          ]
        }
      ]
    },
    {
      "cell_type": "markdown",
      "source": [
        "3. Write a Python program to find the average of a list of numbers.\n"
      ],
      "metadata": {
        "id": "8qwDvRfVcyO4"
      }
    },
    {
      "cell_type": "code",
      "source": [
        "def find_average(numbers):\n",
        "    return sum(numbers) / len(numbers)\n",
        "\n",
        "my_list = [1, 2, 3, 4, 5]\n",
        "average = find_average(my_list)\n",
        "print(\"Average:\", average)\n"
      ],
      "metadata": {
        "colab": {
          "base_uri": "https://localhost:8080/"
        },
        "id": "jJ1pFXw6c040",
        "outputId": "e2eaaf01-1fce-4d26-f75b-15153850a5ad"
      },
      "execution_count": 3,
      "outputs": [
        {
          "output_type": "stream",
          "name": "stdout",
          "text": [
            "Average: 3.0\n"
          ]
        }
      ]
    },
    {
      "cell_type": "markdown",
      "source": [
        "4. Write a Python program to remove all vowels from a string.\n"
      ],
      "metadata": {
        "id": "Qc7jcVSyc1VZ"
      }
    },
    {
      "cell_type": "code",
      "source": [
        "def remove_vowels(string):\n",
        "    vowels = \"aeiouAEIOU\"\n",
        "    return \"\".join(char for char in string if char not in vowels)\n",
        "\n",
        "my_string = \"Hello, World!\"\n",
        "result = remove_vowels(my_string)\n",
        "print(\"Result:\", result)\n"
      ],
      "metadata": {
        "colab": {
          "base_uri": "https://localhost:8080/"
        },
        "id": "BgckY9wYc33d",
        "outputId": "b2472d83-a570-4963-a28c-858d2868bb7f"
      },
      "execution_count": 4,
      "outputs": [
        {
          "output_type": "stream",
          "name": "stdout",
          "text": [
            "Result: Hll, Wrld!\n"
          ]
        }
      ]
    },
    {
      "cell_type": "markdown",
      "source": [
        "5. Write a Python function to calculate the factorial of a number using recursion.\n"
      ],
      "metadata": {
        "id": "poFbQgJHc4Kz"
      }
    },
    {
      "cell_type": "code",
      "source": [
        "def factorial(n):\n",
        "    if n == 0:\n",
        "        return 1\n",
        "    else:\n",
        "        return n * factorial(n - 1)\n",
        "\n",
        "number = 5\n",
        "fact = factorial(number)\n",
        "print(\"Factorial of\", number, \"is\", fact)\n"
      ],
      "metadata": {
        "colab": {
          "base_uri": "https://localhost:8080/"
        },
        "id": "lgR4lG0Tc6sy",
        "outputId": "49983975-ade8-4dca-ea84-b29f5a514782"
      },
      "execution_count": 5,
      "outputs": [
        {
          "output_type": "stream",
          "name": "stdout",
          "text": [
            "Factorial of 5 is 120\n"
          ]
        }
      ]
    },
    {
      "cell_type": "markdown",
      "source": [
        "6. Write a Python program to merge two unsorted lists into a single sorted list\n",
        "using the merge sort algorithm.\n"
      ],
      "metadata": {
        "id": "cum57gIEc7AX"
      }
    },
    {
      "cell_type": "code",
      "source": [
        "def merge_sort(arr):\n",
        "    if len(arr) <= 1:\n",
        "        return arr\n",
        "\n",
        "    mid = len(arr) // 2\n",
        "    left_half = arr[:mid]\n",
        "    right_half = arr[mid:]\n",
        "\n",
        "    left_half = merge_sort(left_half)\n",
        "    right_half = merge_sort(right_half)\n",
        "\n",
        "    return merge(left_half, right_half)\n",
        "\n",
        "\n",
        "def merge(left, right):\n",
        "    merged = []\n",
        "    left_index = 0\n",
        "    right_index = 0\n",
        "\n",
        "    while left_index < len(left) and right_index < len(right):\n",
        "        if left[left_index] < right[right_index]:\n",
        "            merged.append(left[left_index])\n",
        "            left_index += 1\n",
        "        else:\n",
        "            merged.append(right[right_index])\n",
        "            right_index += 1\n",
        "\n",
        "    merged.extend(left[left_index:])\n",
        "    merged.extend(right[right_index:])\n",
        "    return merged\n",
        "\n",
        "list1 = [9, 5, 7, 3, 2]\n",
        "list2 = [6, 1, 8, 4]\n",
        "merged_list = merge_sort(list1 + list2)\n",
        "print(\"Merged and sorted list:\", merged_list)\n"
      ],
      "metadata": {
        "colab": {
          "base_uri": "https://localhost:8080/"
        },
        "id": "qkvDJnf3c8_G",
        "outputId": "46e5091a-aca3-4a33-ce89-f8d93bb2b9af"
      },
      "execution_count": 6,
      "outputs": [
        {
          "output_type": "stream",
          "name": "stdout",
          "text": [
            "Merged and sorted list: [1, 2, 3, 4, 5, 6, 7, 8, 9]\n"
          ]
        }
      ]
    },
    {
      "cell_type": "markdown",
      "source": [
        "7. Write a Python program to find the GCD (Greatest Common Divisor) of two\n",
        "numbers.\n"
      ],
      "metadata": {
        "id": "Xi41Ngmfc9bi"
      }
    },
    {
      "cell_type": "code",
      "source": [
        "def gcd(a, b):\n",
        "    while b != 0:\n",
        "        a, b = b, a % b\n",
        "    return a\n",
        "\n",
        "num1 = 36\n",
        "num2 = 48\n",
        "gcd_value = gcd(num1, num2)\n",
        "print(\"GCD of\", num1, \"and\", num2, \"is\", gcd_value)\n"
      ],
      "metadata": {
        "colab": {
          "base_uri": "https://localhost:8080/"
        },
        "id": "U8Xktbc6c_yM",
        "outputId": "0934017a-bcda-4007-874c-944685f7b0ae"
      },
      "execution_count": 7,
      "outputs": [
        {
          "output_type": "stream",
          "name": "stdout",
          "text": [
            "GCD of 36 and 48 is 12\n",
            "GCD of 36 and 48 is 12\n"
          ]
        }
      ]
    },
    {
      "cell_type": "markdown",
      "source": [
        "8. Write a Python program to find the second-largest element in a list.\n"
      ],
      "metadata": {
        "id": "njDVfUU5dAKa"
      }
    },
    {
      "cell_type": "code",
      "source": [
        "def find_second_largest(numbers):\n",
        "    largest = float('-inf')\n",
        "    second_largest = float('-inf')\n",
        "\n",
        "    for num in numbers:\n",
        "        if num > largest:\n",
        "            second_largest = largest\n",
        "            largest = num\n",
        "        elif num > second_largest and num != largest:\n",
        "            second_largest = num\n",
        "\n",
        "    return second_largest\n",
        "\n",
        "my_list = [5, 9, 3, 7, 1]\n",
        "second_largest = find_second_largest(my_list)\n",
        "print(\"Second largest element:\", second_largest)\n"
      ],
      "metadata": {
        "colab": {
          "base_uri": "https://localhost:8080/"
        },
        "id": "cp_ADLYOdDHz",
        "outputId": "2f51a8ef-2dbf-4303-e629-5fc966149686"
      },
      "execution_count": 9,
      "outputs": [
        {
          "output_type": "stream",
          "name": "stdout",
          "text": [
            "Second largest element: 7\n"
          ]
        }
      ]
    },
    {
      "cell_type": "markdown",
      "source": [
        "9. Write a Python program to find the longest common subsequence between two\n",
        "strings using dynamic programming."
      ],
      "metadata": {
        "id": "zP-Rp2oMdDjk"
      }
    },
    {
      "cell_type": "code",
      "source": [
        "def longest_common_subsequence(str1, str2):\n",
        "    m = len(str1)\n",
        "    n = len(str2)\n",
        "\n",
        "    lcs_table = [[0] * (n + 1) for _ in range(m + 1)]\n",
        "\n",
        "    for i in range(1, m + 1):\n",
        "        for j in range(1, n + 1):\n",
        "            if str1[i - 1] == str2[j - 1]:\n",
        "                lcs_table[i][j] = lcs_table[i - 1][j - 1] + 1\n",
        "            else:\n",
        "                lcs_table[i][j] = max(lcs_table[i - 1][j], lcs_table[i][j - 1])\n",
        "\n",
        "    lcs = []\n",
        "    i = m\n",
        "    j = n\n",
        "    while i > 0 and j > 0:\n",
        "        if str1[i - 1] == str2[j - 1]:\n",
        "            lcs.append(str1[i - 1])\n",
        "            i -= 1\n",
        "            j -= 1\n",
        "        elif lcs_table[i - 1][j] > lcs_table[i][j - 1]:\n",
        "            i -= 1\n",
        "        else:\n",
        "            j -= 1\n",
        "\n",
        "    lcs.reverse()\n",
        "    return ''.join(lcs)\n",
        "\n",
        "string1 = \"AGGTAB\"\n",
        "string2 = \"GXTXAYB\"\n",
        "lcs = longest_common_subsequence(string1, string2)\n",
        "print(\"Longest common subsequence:\", lcs)\n"
      ],
      "metadata": {
        "colab": {
          "base_uri": "https://localhost:8080/"
        },
        "id": "cwFI399ZdFSh",
        "outputId": "14e297ab-c9fc-40ac-94b3-b8d890c0687a"
      },
      "execution_count": 10,
      "outputs": [
        {
          "output_type": "stream",
          "name": "stdout",
          "text": [
            "Longest common subsequence: GTAB\n"
          ]
        }
      ]
    }
  ]
}