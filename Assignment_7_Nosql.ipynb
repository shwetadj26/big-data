{
  "nbformat": 4,
  "nbformat_minor": 0,
  "metadata": {
    "colab": {
      "provenance": []
    },
    "kernelspec": {
      "name": "python3",
      "display_name": "Python 3"
    },
    "language_info": {
      "name": "python"
    }
  },
  "cells": [
    {
      "cell_type": "markdown",
      "source": [
        "1. NoSQL Databases:\n",
        "   a. Write a Python program that connects to a MongoDB database and inserts a new document into a collection named \"students\". The document should include fields such as \"name\", \"age\", and \"grade\". Print a success message after the insertion.\n",
        "   b. Implement a Python function that connects to a Cassandra database and inserts a new record into a table named \"products\". The record should contain fields like \"id\", \"name\", and \"price\". Handle any potential errors that may occur during the insertion.\n",
        "\n"
      ],
      "metadata": {
        "id": "H7Tq99mCyHOv"
      }
    },
    {
      "cell_type": "code",
      "execution_count": null,
      "metadata": {
        "id": "QGvfg_cJyGj3"
      },
      "outputs": [],
      "source": [
        "from pymongo import MongoClient\n",
        "\n",
        "client = MongoClient('mongodb://localhost:27017/')\n",
        "db = client['mydatabase']\n",
        "collection = db['students']\n",
        "\n",
        "document = {\n",
        "    'name': 'John Doe',\n",
        "    'age': 20,\n",
        "    'grade': 'A'\n",
        "}\n",
        "\n",
        "collection.insert_one(document)\n",
        "\n",
        "print(\"Document inserted successfully.\")\n",
        "\n",
        "\n",
        "from cassandra.cluster import Cluster\n",
        "from cassandra import ConsistencyLevel\n",
        "\n",
        "def insert_product(id, name, price):\n",
        "    try:\n",
        "        cluster = Cluster(['127.0.0.1'])\n",
        "        session = cluster.connect()\n",
        "        session.set_keyspace('mykeyspace')\n",
        "\n",
        "        insert_query = session.prepare(\"INSERT INTO products (id, name, price) VALUES (?, ?, ?)\")\n",
        "        insert_query.consistency_level = ConsistencyLevel.QUORUM\n",
        "\n",
        "        session.execute(insert_query, (id, name, price))\n",
        "\n",
        "        print(\"Record inserted successfully.\")\n",
        "    except Exception as e:\n",
        "        print(\"Error occurred:\", str(e))\n",
        "    finally:\n",
        "        session.shutdown()\n",
        "        cluster.shutdown()\n"
      ]
    },
    {
      "cell_type": "markdown",
      "source": [
        "2. Document-oriented NoSQL Databases:\n",
        "   a. Given a MongoDB collection named \"books\", write a Python function that fetches all the books published in the last year and prints their titles and authors.\n",
        "   b. Design a schema for a document-oriented NoSQL database to store customer information for an e-commerce platform. Write a Python program to insert a new customer document into the database and handle any necessary validations.\n",
        "\n",
        "\n",
        "\n"
      ],
      "metadata": {
        "id": "5rW1vM4Yybb4"
      }
    },
    {
      "cell_type": "code",
      "source": [
        "from pymongo import MongoClient\n",
        "from datetime import datetime, timedelta\n",
        "\n",
        "def fetch_recent_books():\n",
        "    client = MongoClient('mongodb://localhost:27017/')\n",
        "    db = client['mydatabase']\n",
        "    collection = db['books']\n",
        "\n",
        "    one_year_ago = datetime.now() - timedelta(days=365)\n",
        "\n",
        "    recent_books = collection.find({\"publication_date\": {\"$gte\": one_year_ago}})\n",
        "\n",
        "    for book in recent_books:\n",
        "        print(\"Title:\", book['title'])\n",
        "        print(\"Author:\", book['author'])\n",
        "        print()\n",
        "\n",
        "    client.close()\n",
        "\n",
        "from pymongo import MongoClient\n",
        "\n",
        "client = MongoClient('mongodb://primary_node:27017,secondary_node1:27017,secondary_node2:27017/?replicaSet=myreplicaset')\n",
        "\n",
        "status = client.admin.command('replSetGetStatus')\n",
        "\n",
        "for member in status['members']:\n",
        "    if member['stateStr'] == 'PRIMARY':\n",
        "        print(\"Primary Node:\", member['name'])\n",
        "    elif member['stateStr'] == 'SECONDARY':\n",
        "        print(\"Secondary Node:\", member['name'])\n",
        "\n",
        "client.close()\n",
        "\n",
        "from cassandra.cluster import Cluster\n",
        "\n",
        "cluster = Cluster(['node1', 'node2', 'node3'])\n",
        "session = cluster.connect()\n",
        "\n",
        "rows = session.execute(\"SELECT * FROM system.peers\")\n",
        "\n",
        "for row in rows:\n",
        "    print(\"Node:\", row.peer, \"Status:\", row.status)\n",
        "\n",
        "session.shutdown()\n",
        "cluster.shutdown()\n"
      ],
      "metadata": {
        "id": "JKKZI5Xbydsx"
      },
      "execution_count": null,
      "outputs": []
    },
    {
      "cell_type": "markdown",
      "source": [
        "3. High Availability and Fault Tolerance:\n",
        "   a. Explain the concept of replica sets in MongoDB. Write a Python program that connects to a MongoDB replica set and retrieves the status of the primary and secondary nodes.\n",
        "   b. Describe how Cassandra ensures high availability and fault tolerance in a distributed database system. Write a Python program that connects to a Cassandra cluster and fetches the status of the nodes.\n",
        "\n"
      ],
      "metadata": {
        "id": "AYk4DwGPyeRA"
      }
    },
    {
      "cell_type": "code",
      "source": [
        "from pymongo import MongoClient\n",
        "from bson.objectid import ObjectId\n",
        "\n",
        "client = MongoClient('mongodb://mongos1:27017')\n",
        "\n",
        "admin_db = client.admin\n",
        "admin_db.command(\"enableSharding\", \"mydatabase\")\n",
        "\n",
        "shard_key = {'_id': 'hashed'}\n",
        "admin_db.command(\"shardCollection\", \"mydatabase.students\", key=shard_key)\n",
        "\n",
        "db = client.mydatabase\n",
        "collection = db.students\n",
        "\n",
        "documents = [\n",
        "    {'_id': ObjectId(), 'name': 'John Doe', 'age': 20, 'grade': 'A'},\n",
        "    {'_id': ObjectId(), 'name': 'Jane Smith', 'age': 18, 'grade': 'B'}\n",
        "]\n",
        "\n",
        "collection.insert_many(documents)\n",
        "\n",
        "client.close()\n",
        "\n",
        "from pymongo import MongoClient\n",
        "from bson.objectid import ObjectId\n",
        "\n",
        "client = MongoClient('mongodb://mongos1:27017')\n",
        "\n",
        "admin_db = client.admin\n",
        "admin_db.command(\"enableSharding\", \"mydatabase\")\n",
        "\n",
        "shard_key = {'user_id': 1}\n",
        "admin_db.command(\"shardCollection\", \"mydatabase.users\", key=shard_key)\n",
        "\n",
        "db = client.mydatabase\n",
        "collection = db.users\n",
        "\n",
        "users = [\n",
        "    {'_id': ObjectId(), 'user_id': 1001, 'name': 'John Doe', 'email': 'john@example.com'},\n",
        "    {'_id': ObjectId(), 'user_id': 2002, 'name': 'Jane Smith', 'email': 'jane@example.com'}\n",
        "]\n",
        "\n",
        "collection.insert_many(users)\n",
        "\n",
        "sharded_query = {'user_id': 1001}\n",
        "user_data = collection.find_one(sharded_query)\n",
        "print(user_data)\n",
        "\n",
        "client.close()\n"
      ],
      "metadata": {
        "id": "TNi5uKPnyghD"
      },
      "execution_count": null,
      "outputs": []
    },
    {
      "cell_type": "markdown",
      "source": [
        "4. Sharding in MongoDB:\n",
        "   a. Explain the concept of sharding in MongoDB and how it improves performance and scalability. Write a Python program that sets up sharding for a MongoDB cluster and inserts multiple documents into a sharded collection.\n",
        "   b. Design a sharding strategy for a social media application where user data needs to be distributed across multiple shards. Write a Python program to demonstrate how data is distributed and retrieved from the sharded cluster.\n",
        "\n"
      ],
      "metadata": {
        "id": "_v1D2J1tyg3y"
      }
    },
    {
      "cell_type": "code",
      "source": [
        "from pymongo import MongoClient\n",
        "\n",
        "client = MongoClient('mongodb://localhost:27017/')\n",
        "db = client['mydatabase']\n",
        "collection = db['products']\n",
        "\n",
        "collection.create_index('name')\n",
        "\n",
        "query = {'name': 'example_product'}\n",
        "result = collection.find(query)\n",
        "\n",
        "for doc in result:\n",
        "    print(doc)\n",
        "\n",
        "client.close()\n",
        "\n"
      ],
      "metadata": {
        "id": "GlL3pNToyi4B"
      },
      "execution_count": null,
      "outputs": []
    },
    {
      "cell_type": "markdown",
      "source": [
        "5. Indexing in MongoDB:\n",
        "   a. Describe the concept of indexing in MongoDB and its importance in query optimization. Write a Python program that creates an index on a specific field in a MongoDB collection and executes a query using that index.\n",
        "   b. Given a MongoDB collection named \"products\", write a Python function that searches for products with a specific keyword in the name or description. Optimize the query by adding appropriate indexes."
      ],
      "metadata": {
        "id": "aPa99gboyjWz"
      }
    },
    {
      "cell_type": "code",
      "source": [
        "from pymongo import MongoClient\n",
        "\n",
        "client = MongoClient('mongodb://localhost:27017/')\n",
        "db = client['mydatabase']\n",
        "collection = db['products']\n",
        "\n",
        "collection.create_index('name')\n",
        "collection.create_index('description')\n",
        "\n",
        "def search_products(keyword):\n",
        "    query = {\n",
        "        '$or': [\n",
        "            {'name': {'$regex': keyword, '$options': 'i'}},\n",
        "            {'description': {'$regex': keyword, '$options': 'i'}}\n",
        "        ]\n",
        "    }\n",
        "    result = collection.find(query)\n",
        "\n",
        "    for doc in result:\n",
        "        print(doc)\n",
        "\n",
        "client.close()\n"
      ],
      "metadata": {
        "id": "IcvBBWuyylgM"
      },
      "execution_count": null,
      "outputs": []
    }
  ]
}