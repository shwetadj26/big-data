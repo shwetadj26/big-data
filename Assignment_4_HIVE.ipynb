{
  "nbformat": 4,
  "nbformat_minor": 0,
  "metadata": {
    "colab": {
      "provenance": []
    },
    "kernelspec": {
      "name": "python3",
      "display_name": "Python 3"
    },
    "language_info": {
      "name": "python"
    }
  },
  "cells": [
    {
      "cell_type": "markdown",
      "source": [
        "1.  Write a Python program that uses the HiveQL language to create a table named \"Employees\" with columns for \"id,\" \"name,\" and \"salary.\"\n",
        "\n"
      ],
      "metadata": {
        "id": "zqRRUurFjSDe"
      }
    },
    {
      "cell_type": "code",
      "execution_count": 1,
      "metadata": {
        "id": "Q8H3psLjjRWj"
      },
      "outputs": [],
      "source": [
        "from pyhive import hive\n",
        "\n",
        "connection = hive.Connection(host=\"localhost\", port=10000, username=\"shweta\")\n",
        "\n",
        "query = '''\n",
        "CREATE TABLE Employees (\n",
        "    id INT,\n",
        "    name STRING,\n",
        "    salary FLOAT\n",
        ")\n",
        "'''\n",
        "\n",
        "with connection.cursor() as cursor:\n",
        "    cursor.execute(query)\n"
      ]
    },
    {
      "cell_type": "markdown",
      "source": [
        "2.  Create a Python program that retrieves records from a Hive table named \"Customers\" where the age is greater than 30.\n"
      ],
      "metadata": {
        "id": "FRmhOPiujVN0"
      }
    },
    {
      "cell_type": "code",
      "source": [
        "from pyhive import hive\n",
        "\n",
        "connection = hive.Connection(host=\"localhost\", port=10000, username=\"shweta\")\n",
        "\n",
        "query = '''\n",
        "SELECT *\n",
        "FROM Customers\n",
        "WHERE age > 30\n",
        "'''\n",
        "\n",
        "with connection.cursor() as cursor:\n",
        "    cursor.execute(query)\n",
        "    results = cursor.fetchall()\n",
        "\n",
        "for row in results:\n",
        "    print(row)\n"
      ],
      "metadata": {
        "id": "r-C3VF2BjXby"
      },
      "execution_count": null,
      "outputs": []
    },
    {
      "cell_type": "markdown",
      "source": [
        "3.  Write a Python script that sorts records in descending order based on the \"timestamp\" column in a Hive table named \"Logs.\"\n"
      ],
      "metadata": {
        "id": "wlI08Bl5jX4J"
      }
    },
    {
      "cell_type": "code",
      "source": [
        "from pyhive import hive\n",
        "\n",
        "connection = hive.Connection(host=\"localhost\", port=10000, username=\"shweta\")\n",
        "\n",
        "query = '''\n",
        "SELECT *\n",
        "FROM Logs\n",
        "ORDER BY timestamp DESC\n",
        "'''\n",
        "\n",
        "with connection.cursor() as cursor:\n",
        "    cursor.execute(query)\n",
        "    results = cursor.fetchall()\n",
        "\n",
        "for row in results:\n",
        "    print(row)\n"
      ],
      "metadata": {
        "id": "4xJjsRvrjaTA"
      },
      "execution_count": null,
      "outputs": []
    },
    {
      "cell_type": "markdown",
      "source": [
        "4.  Write a Python program that connects to a Hive server using PyHive library and retrieves all records from a table named \"Products\".\n"
      ],
      "metadata": {
        "id": "QIN813NAjaz4"
      }
    },
    {
      "cell_type": "code",
      "source": [
        "from pyhive import hive\n",
        "\n",
        "connection = hive.Connection(host=\"localhost\", port=10000, username=\"shweta\")\n",
        "\n",
        "query = '''\n",
        "SELECT *\n",
        "FROM Products\n",
        "'''\n",
        "\n",
        "with connection.cursor() as cursor:\n",
        "    cursor.execute(query)\n",
        "    results = cursor.fetchall()\n",
        "\n",
        "for row in results:\n",
        "    print(row)\n"
      ],
      "metadata": {
        "id": "Be6LkOw9jd14"
      },
      "execution_count": null,
      "outputs": []
    },
    {
      "cell_type": "markdown",
      "source": [
        "5.  Write a Python script that calculates the average salary of employees from a Hive table named \"Employees\".\n"
      ],
      "metadata": {
        "id": "5OPBTKjWjeQF"
      }
    },
    {
      "cell_type": "code",
      "source": [
        "from pyhive import hive\n",
        "\n",
        "connection = hive.Connection(host=\"localhost\", port=10000, username=\"shweta\")\n",
        "\n",
        "query = '''\n",
        "SELECT AVG(salary) AS average_salary\n",
        "FROM Employees\n",
        "'''\n",
        "\n",
        "with connection.cursor() as cursor:\n",
        "    cursor.execute(query)\n",
        "    result = cursor.fetchone()\n",
        "    average_salary = result[0]\n",
        "\n",
        "print(\"Average Salary:\", average_salary)\n"
      ],
      "metadata": {
        "id": "_TzJvQgtjgg7"
      },
      "execution_count": null,
      "outputs": []
    },
    {
      "cell_type": "markdown",
      "source": [
        "6.  Implement a Python program that uses Hive partitioning to create a partitioned table named \"Sales_Data\" based on the \"year\" and \"month\" columns.\n"
      ],
      "metadata": {
        "id": "xPOAgTqpjg6R"
      }
    },
    {
      "cell_type": "code",
      "source": [
        "from pyhive import hive\n",
        "\n",
        "connection = hive.Connection(host=\"localhost\", port=10000, username=\"shweta\")\n",
        "\n",
        "query = '''\n",
        "CREATE TABLE Sales_Data (\n",
        "    id INT,\n",
        "    name STRING,\n",
        "    sales FLOAT\n",
        ")\n",
        "PARTITIONED BY (year INT, month INT)\n",
        "'''\n",
        "\n",
        "with connection.cursor() as cursor:\n",
        "    cursor.execute(query)\n"
      ],
      "metadata": {
        "id": "QOkwaL_IjjAz"
      },
      "execution_count": null,
      "outputs": []
    },
    {
      "cell_type": "markdown",
      "source": [
        "7.  Develop a Python script that adds a new column named \"email\" of type string to an existing Hive table named \"Employees.\"\n"
      ],
      "metadata": {
        "id": "lixcrDVfjjZ9"
      }
    },
    {
      "cell_type": "code",
      "source": [
        "from pyhive import hive\n",
        "\n",
        "connection = hive.Connection(host=\"localhost\", port=10000, username=\"shweta\")\n",
        "\n",
        "query = '''\n",
        "ALTER TABLE Employees\n",
        "ADD COLUMNS (email STRING)\n",
        "'''\n",
        "\n",
        "with connection.cursor() as cursor:\n",
        "    cursor.execute(query)\n"
      ],
      "metadata": {
        "id": "Yhln4p7ijl_M"
      },
      "execution_count": null,
      "outputs": []
    },
    {
      "cell_type": "markdown",
      "source": [
        "8.  Create a Python program that performs an inner join between two Hive tables, \"Orders\" and \"Customers,\" based on a common column.\n"
      ],
      "metadata": {
        "id": "UHeTjWywjmXV"
      }
    },
    {
      "cell_type": "code",
      "source": [
        "from pyhive import hive\n",
        "\n",
        "connection = hive.Connection(host=\"localhost\", port=10000, username=\"shweta\")\n",
        "\n",
        "query = '''\n",
        "SELECT *\n",
        "FROM Orders\n",
        "JOIN Customers ON Orders.customer_id = Customers.id\n",
        "'''\n",
        "\n",
        "with connection.cursor() as cursor:\n",
        "    cursor.execute(query)\n",
        "    results = cursor.fetchall()\n",
        "\n",
        "for row in results:\n",
        "    print(row)\n"
      ],
      "metadata": {
        "id": "TAugBjPMjoZ-"
      },
      "execution_count": null,
      "outputs": []
    },
    {
      "cell_type": "markdown",
      "source": [
        "9.  Implement a Python program that uses the Hive SerDe library to process JSON data stored in a Hive table named \"User_Activity_Logs.\""
      ],
      "metadata": {
        "id": "kwZPPKiwjowq"
      }
    },
    {
      "cell_type": "code",
      "source": [
        "from pyhive import hive\n",
        "\n",
        "connection = hive.Connection(host=\"localhost\", port=10000, username=\"shweta\")\n",
        "\n",
        "query = '''\n",
        "SELECT *\n",
        "FROM User_Activity_Logs\n",
        "'''\n",
        "\n",
        "with connection.cursor() as cursor:\n",
        "    cursor.execute(query)\n",
        "    results = cursor.fetchall()\n",
        "\n",
        "for row in results:\n",
        "    print(row)\n"
      ],
      "metadata": {
        "id": "2PfTXcEdjp7d"
      },
      "execution_count": null,
      "outputs": []
    }
  ]
}