{
  "nbformat": 4,
  "nbformat_minor": 0,
  "metadata": {
    "colab": {
      "provenance": []
    },
    "kernelspec": {
      "name": "python3",
      "display_name": "Python 3"
    },
    "language_info": {
      "name": "python"
    }
  },
  "cells": [
    {
      "cell_type": "markdown",
      "source": [
        "1. Setting up a Kafka Producer:\n",
        "   a) Write a Python program to create a Kafka producer.\n",
        "   b) Configure the producer to connect to a Kafka cluster.\n",
        "   c) Implement logic to send messages to a Kafka topic.\n",
        "\n"
      ],
      "metadata": {
        "id": "rYfw_l3_rqfN"
      }
    },
    {
      "cell_type": "code",
      "source": [],
      "metadata": {
        "id": "w7S6H8DFv4Yx"
      },
      "execution_count": null,
      "outputs": []
    },
    {
      "cell_type": "code",
      "source": [
        "pip install kafka-python\n"
      ],
      "metadata": {
        "colab": {
          "base_uri": "https://localhost:8080/"
        },
        "id": "lF6mpBHPtWTl",
        "outputId": "d59bfce1-b081-4a85-94c4-8b894868a9b9"
      },
      "execution_count": 2,
      "outputs": [
        {
          "output_type": "stream",
          "name": "stdout",
          "text": [
            "Collecting kafka-python\n",
            "  Downloading kafka_python-2.0.2-py2.py3-none-any.whl (246 kB)\n",
            "\u001b[?25l     \u001b[90m━━━━━━━━━━━━━━━━━━━━━━━━━━━━━━━━━━━━━━━━\u001b[0m \u001b[32m0.0/246.5 kB\u001b[0m \u001b[31m?\u001b[0m eta \u001b[36m-:--:--\u001b[0m\r\u001b[2K     \u001b[91m━━━━━━━━━━━━━━━━━━━━━━━━━━━━━━━━━━━━━━\u001b[0m\u001b[91m╸\u001b[0m \u001b[32m245.8/246.5 kB\u001b[0m \u001b[31m7.8 MB/s\u001b[0m eta \u001b[36m0:00:01\u001b[0m\r\u001b[2K     \u001b[90m━━━━━━━━━━━━━━━━━━━━━━━━━━━━━━━━━━━━━━━\u001b[0m \u001b[32m246.5/246.5 kB\u001b[0m \u001b[31m6.3 MB/s\u001b[0m eta \u001b[36m0:00:00\u001b[0m\n",
            "\u001b[?25hInstalling collected packages: kafka-python\n",
            "Successfully installed kafka-python-2.0.2\n"
          ]
        }
      ]
    },
    {
      "cell_type": "code",
      "execution_count": 9,
      "metadata": {
        "id": "t-62XR0OrpXs"
      },
      "outputs": [],
      "source": [
        "from kafka import KafkaProducer\n",
        "\n",
        "producer = KafkaProducer(bootstrap_servers=['localhost:9092'], api_version=(0, 11, 5))\n",
        "\n",
        "topic = 'my_topic'\n",
        "message = b'Hello, Kafka!'\n",
        "producer.send(topic, message)\n",
        "producer.flush()\n"
      ]
    },
    {
      "cell_type": "markdown",
      "source": [
        "2. Setting up a Kafka Consumer:\n",
        "   a) Write a Python program to create a Kafka consumer.\n",
        "   b) Configure the consumer to connect to a Kafka cluster.\n",
        "   c) Implement logic to consume messages from a Kafka topic.\n",
        "\n",
        "\n"
      ],
      "metadata": {
        "id": "4idPwAKXrt16"
      }
    },
    {
      "cell_type": "code",
      "source": [
        "from kafka import KafkaConsumer\n",
        "\n",
        "consumer = KafkaConsumer(bootstrap_servers='localhost:9092', group_id='my_consumer_group')\n",
        "\n",
        "topic = 'my_topic'\n",
        "consumer.subscribe([topic])\n",
        "\n",
        "for message in consumer:\n",
        "    print(message.value.decode('utf-8'))\n"
      ],
      "metadata": {
        "id": "vOUipjdtrxFo"
      },
      "execution_count": null,
      "outputs": []
    },
    {
      "cell_type": "markdown",
      "source": [
        "3. Creating and Managing Kafka Topics:\n",
        "   a) Write a Python program to create a new Kafka topic.\n",
        "   b) Implement functionality to list existing topics.\n",
        "   c) Develop logic to delete an existing Kafka topic.\n",
        "\n"
      ],
      "metadata": {
        "id": "WiGsM1mFrxub"
      }
    },
    {
      "cell_type": "code",
      "source": [
        "from kafka.admin import KafkaAdminClient, NewTopic\n",
        "\n",
        "admin_client = KafkaAdminClient(bootstrap_servers='localhost:9092')\n",
        "\n",
        "topic = NewTopic(name='my_topic', num_partitions=1, replication_factor=1)\n",
        "admin_client.create_topics([topic])\n",
        "\n",
        "topics = admin_client.list_topics()\n",
        "for topic_name in topics:\n",
        "    print(topic_name)\n",
        "\n",
        "admin_client.delete_topics(['my_topic'])\n"
      ],
      "metadata": {
        "id": "CiaOnobirzts"
      },
      "execution_count": null,
      "outputs": []
    },
    {
      "cell_type": "markdown",
      "source": [
        "4. Producing and Consuming Messages:\n",
        "   a) Write a Python program to produce messages to a Kafka topic.\n",
        "   b) Implement logic to consume messages from the same Kafka topic.\n",
        "   c) Test the end-to-end flow of message production and consumption.\n",
        "\n"
      ],
      "metadata": {
        "id": "lLrkZxVor0Gt"
      }
    },
    {
      "cell_type": "code",
      "source": [
        "from kafka import KafkaProducer\n",
        "\n",
        "producer = KafkaProducer(bootstrap_servers='localhost:9092')\n",
        "\n",
        "topic = 'my_topic'\n",
        "messages = [b'Message 1', b'Message 2', b'Message 3']\n",
        "for message in messages:\n",
        "    producer.send(topic, message)\n",
        "producer.flush()\n",
        "\n",
        "from kafka import KafkaConsumer\n",
        "\n",
        "consumer = KafkaConsumer(bootstrap_servers='localhost:9092', group_id='my_consumer_group')\n",
        "\n",
        "topic = 'my_topic'\n",
        "consumer.subscribe([topic])\n",
        "\n",
        "for message in consumer:\n",
        "    print(message.value.decode('utf-8'))\n"
      ],
      "metadata": {
        "id": "2zz4qnj6r2xK"
      },
      "execution_count": null,
      "outputs": []
    },
    {
      "cell_type": "markdown",
      "source": [
        "5. Working with Kafka Consumer Groups:\n",
        "   a) Write a Python program to create a Kafka consumer within a consumer group.\n",
        "   b) Implement logic to handle messages consumed by different consumers within the same group.\n",
        "   c) Observe the behavior of consumer group rebalancing when adding or removing consumers."
      ],
      "metadata": {
        "id": "3tieWe1or3Ss"
      }
    },
    {
      "cell_type": "code",
      "source": [
        "from kafka import KafkaConsumer\n",
        "\n",
        "consumer = KafkaConsumer(bootstrap_servers='localhost:9092', group_id='my_consumer_group')\n",
        "\n",
        "topic = 'my_topic'\n",
        "consumer.subscribe([topic])\n",
        "\n",
        "for message in consumer:\n",
        "    print(f\"Received message: {message.value.decode('utf-8')}\")\n"
      ],
      "metadata": {
        "id": "ILfgQznmr4gO"
      },
      "execution_count": null,
      "outputs": []
    }
  ]
}